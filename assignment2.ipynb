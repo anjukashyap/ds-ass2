{
 "cells": [
  {
   "cell_type": "raw",
   "metadata": {},
   "source": [
    "que1"
   ]
  },
  {
   "cell_type": "code",
   "execution_count": 1,
   "metadata": {},
   "outputs": [
    {
     "name": "stdout",
     "output_type": "stream",
     "text": [
      "4\n",
      "5\n",
      "6\n",
      "7\n",
      "8\n",
      "45\n",
      "34\n",
      "34\n",
      "56\n",
      "78\n",
      "[4, 6, 8, 34, 34, 56, 78]\n"
     ]
    }
   ],
   "source": [
    "list = []\n",
    "for i in range(0,10):\n",
    "    x = int(input())\n",
    "    if x%2==0:\n",
    "        list.append(x)\n",
    "print(list)"
   ]
  },
  {
   "cell_type": "raw",
   "metadata": {},
   "source": [
    "que2"
   ]
  },
  {
   "cell_type": "code",
   "execution_count": 2,
   "metadata": {},
   "outputs": [
    {
     "name": "stdout",
     "output_type": "stream",
     "text": [
      "['A', 'N', 'J', 'U', 'L', 'A', 'T', 'A']\n"
     ]
    }
   ],
   "source": [
    "letters = []\n",
    "\n",
    "for letter in 'ANJULATA':\n",
    "    letters.append(letter)\n",
    "\n",
    "print(letters)"
   ]
  },
  {
   "cell_type": "raw",
   "metadata": {},
   "source": [
    "que3"
   ]
  },
  {
   "cell_type": "code",
   "execution_count": 3,
   "metadata": {},
   "outputs": [
    {
     "name": "stdout",
     "output_type": "stream",
     "text": [
      "9\n",
      "{1: 1, 2: 4, 3: 9, 4: 16, 5: 25, 6: 36, 7: 49, 8: 64, 9: 81}\n"
     ]
    }
   ],
   "source": [
    "dictionary = {}\n",
    "n = int(input())\n",
    "for i in range(1,n+1):\n",
    "  dictionary[i] = i*i\n",
    "print(dictionary)"
   ]
  },
  {
   "cell_type": "raw",
   "metadata": {},
   "source": [
    "que4"
   ]
  },
  {
   "cell_type": "code",
   "execution_count": 4,
   "metadata": {},
   "outputs": [
    {
     "name": "stdout",
     "output_type": "stream",
     "text": [
      "4\n",
      "UP 5\n",
      "DOWN 3\n",
      "LEFT 3\n",
      "RIGHT 2\n",
      "2\n"
     ]
    }
   ],
   "source": [
    "x=0\n",
    "y=0\n",
    "n = int(input())\n",
    "\n",
    "for i in range(n):\n",
    "    direction = input().split(' ')  \n",
    "    \n",
    "    if direction[0].upper() == \"UP\":\n",
    "        y += int(direction[1])\n",
    "    elif direction[0].upper() == \"RIGHT\":\n",
    "        x += int(direction[1])\n",
    "    elif direction[0].upper() == \"DOWN\":\n",
    "        y -= int(direction[1])\n",
    "    elif direction[0].upper() == \"LEFT\":\n",
    "        x -= int(direction[1])\n",
    "    else:\n",
    "        print(\"Invalid Input\")    \n",
    "pos = float((x**2+y**2)**0.5)\n",
    "print(round(pos))"
   ]
  }
 ],
 "metadata": {
  "kernelspec": {
   "display_name": "Python 3",
   "language": "python",
   "name": "python3"
  },
  "language_info": {
   "codemirror_mode": {
    "name": "ipython",
    "version": 3
   },
   "file_extension": ".py",
   "mimetype": "text/x-python",
   "name": "python",
   "nbconvert_exporter": "python",
   "pygments_lexer": "ipython3",
   "version": "3.6.5"
  }
 },
 "nbformat": 4,
 "nbformat_minor": 4
}
